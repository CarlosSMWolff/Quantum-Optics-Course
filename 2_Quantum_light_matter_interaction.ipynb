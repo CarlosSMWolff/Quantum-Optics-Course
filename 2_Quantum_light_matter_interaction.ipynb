{
  "nbformat": 4,
  "nbformat_minor": 0,
  "metadata": {
    "colab": {
      "provenance": [],
      "toc_visible": true,
      "authorship_tag": "ABX9TyOzv8q4QnRUjBDZe6eKNFI8",
      "include_colab_link": true
    },
    "kernelspec": {
      "name": "python3",
      "display_name": "Python 3"
    },
    "language_info": {
      "name": "python"
    },
    "gpuClass": "standard"
  },
  "cells": [
    {
      "cell_type": "markdown",
      "metadata": {
        "id": "view-in-github",
        "colab_type": "text"
      },
      "source": [
        "<a href=\"https://colab.research.google.com/github/CarlosSMWolff/Quantum-Optics-Course/blob/main/2_Quantum_light_matter_interaction.ipynb\" target=\"_parent\"><img src=\"https://colab.research.google.com/assets/colab-badge.svg\" alt=\"Open In Colab\"/></a>"
      ]
    },
    {
      "cell_type": "markdown",
      "source": [
        "# Quantum light-matter interaction"
      ],
      "metadata": {
        "id": "n2OVE0AzLprq"
      }
    },
    {
      "cell_type": "markdown",
      "source": [
        "In this notebook, we will investigate fundamental light-matter Hamiltonians.\n",
        "\n",
        "This time, we will first build our operators and Hamiltonians ourselves, using numpy arrays (the goal is to understand that it is quite easy to build our own codes without using Qutip). \n",
        "\n",
        "Then, we will come back to Qutip and investigate the limits of the semiclassical approximation, in which one assumes that the cavity states is and remains a coherent state.\n"
      ],
      "metadata": {
        "id": "2R6585AqGzO5"
      }
    },
    {
      "cell_type": "markdown",
      "source": [
        "Load necessary packages"
      ],
      "metadata": {
        "id": "J8rVwBeuJDRf"
      }
    },
    {
      "cell_type": "code",
      "source": [
        "!pip install qutip\n",
        "\n",
        "# Load numpy for matrix operations\n",
        "import numpy as np\n",
        "# Load matplotlib to create plots\n",
        "import matplotlib.pyplot as plt\n",
        "\n",
        "from qutip import *"
      ],
      "metadata": {
        "id": "GGcDKmY4wzE0",
        "outputId": "054f505a-6cdd-4be7-bded-966b9ca4f068",
        "colab": {
          "base_uri": "https://localhost:8080/"
        }
      },
      "execution_count": 1,
      "outputs": [
        {
          "output_type": "stream",
          "name": "stdout",
          "text": [
            "Looking in indexes: https://pypi.org/simple, https://us-python.pkg.dev/colab-wheels/public/simple/\n",
            "Collecting qutip\n",
            "  Downloading qutip-4.7.1-cp39-cp39-manylinux_2_17_x86_64.manylinux2014_x86_64.whl (16.4 MB)\n",
            "\u001b[2K     \u001b[90m━━━━━━━━━━━━━━━━━━━━━━━━━━━━━━━━━━━━━━━━\u001b[0m \u001b[32m16.4/16.4 MB\u001b[0m \u001b[31m22.6 MB/s\u001b[0m eta \u001b[36m0:00:00\u001b[0m\n",
            "\u001b[?25hRequirement already satisfied: numpy>=1.16.6 in /usr/local/lib/python3.9/dist-packages (from qutip) (1.22.4)\n",
            "Requirement already satisfied: packaging in /usr/local/lib/python3.9/dist-packages (from qutip) (23.0)\n",
            "Requirement already satisfied: scipy>=1.0 in /usr/local/lib/python3.9/dist-packages (from qutip) (1.10.1)\n",
            "Installing collected packages: qutip\n",
            "Successfully installed qutip-4.7.1\n"
          ]
        }
      ]
    },
    {
      "cell_type": "markdown",
      "source": [
        "# Hamiltonian construction and diagonalization with numpy"
      ],
      "metadata": {
        "id": "7xOMRr8aJPe5"
      }
    },
    {
      "cell_type": "markdown",
      "source": [
        "First we build the quantum operators that we use to describe the states and dynamics of the system.\n",
        "\n",
        "In this example, we have a cavity (annihilation operator $a$) and a two-level system (lowering operator $\\sigma$).\n",
        "\n",
        "We will use the notation \"red\" for operators that act on the respective spaces of the cavity or the TLS alone, not in the global space that is a tensor product of both."
      ],
      "metadata": {
        "id": "9zIHNsG1JddW"
      }
    },
    {
      "cell_type": "markdown",
      "source": [
        "## Operators"
      ],
      "metadata": {
        "id": "SxUBSilKUoSJ"
      }
    },
    {
      "cell_type": "code",
      "source": [
        "# Define the annihilation operator for a single HO\n",
        "ncav = 5 # Truncation number: i.e. number of levels of the HO included.\n",
        "\n",
        "ared = np.zeros((ncav, ncav))\n",
        "for i in range(1,ncav):\n",
        "  ared[i-1,i] = np.sqrt(i)\n",
        "\n",
        "# COMMENT: Here is a more elegant one-line command to to the same as above\n",
        "# ared = np.diag(np.sqrt(np.arange(1,ncav)),k=1)\n",
        "\n",
        "# Define the annihilation operator for a TLS\n",
        "sigmared = np.array([[0,1],[0,0]])\n"
      ],
      "metadata": {
        "id": "9lj2Ie0bLzUy"
      },
      "execution_count": 2,
      "outputs": []
    },
    {
      "cell_type": "markdown",
      "source": [
        "\n",
        "Remember that we work in a Hilbert space which is a tensor product of the cavity Hilbert space and the TLS Hilbert space. Therefore, to build the operators we need to also build tensor products of the reduced operators defined above, for instance:\n",
        "\n",
        "$$a_\\text{total} = a_\\text{cavity}\\otimes I_{\\text{TLS}} $$ \n",
        "$$\\sigma_\\text{total} = I_\\text{cavity}\\otimes \\sigma_{\\text{TLS}} $$\n",
        "\n",
        "This tensor product is performed with numpy's Kronecker product ``np.kron``. The identity is created with ``np.eye``.\n",
        "\n"
      ],
      "metadata": {
        "id": "nEqiP1MAOLCO"
      }
    },
    {
      "cell_type": "code",
      "source": [
        "a = np.kron(ared,np.eye(2))\n",
        "sigma = np.kron(np.eye(ncav),sigmared)\n",
        "\n",
        "hilbertnumber = len(a)\n",
        "print(f\"The size of our combined Hilbert space is {hilbertnumber}\")"
      ],
      "metadata": {
        "colab": {
          "base_uri": "https://localhost:8080/"
        },
        "id": "3y4B2lyJJVA3",
        "outputId": "f4ce0c93-4166-4712-c2d3-e3e4ba577883"
      },
      "execution_count": 3,
      "outputs": [
        {
          "output_type": "stream",
          "name": "stdout",
          "text": [
            "The size of our combined Hilbert space is 10\n"
          ]
        }
      ]
    },
    {
      "cell_type": "markdown",
      "source": [
        "These operators now act on the global space of both cavity and TLS, i.e. ,in the basis \n",
        "\n",
        "$$\\{|g0\\rangle, |e0\\rangle, |g1\\rangle, |e1\\rangle, \\ldots \\} $$\n",
        "\n",
        "To explicitly see this, we can apply the creation operation $a^\\dagger$ to vacuum. Here, $a^\\dagger$ is simply given by the transpose of a, which we can write as ``a.T``. Matrix multiplication can be done with ``np.dot`` or, even more easily, with the ``@`` operation. Remember that ``*`` does element-wise multiplication, not matrix multiplication!"
      ],
      "metadata": {
        "id": "wGFOVJhiPZAr"
      }
    },
    {
      "cell_type": "code",
      "source": [
        "vac = np.eye(hilbertnumber)[:,0] # Create vacuum state |g0> = (1,0,.... ,0)\n",
        "sigma.T@vac"
      ],
      "metadata": {
        "colab": {
          "base_uri": "https://localhost:8080/"
        },
        "id": "GT5OVoRmQyDH",
        "outputId": "9d499021-87d0-4a0c-9071-72e56eea0775"
      },
      "execution_count": 4,
      "outputs": [
        {
          "output_type": "execute_result",
          "data": {
            "text/plain": [
              "array([0., 1., 0., 0., 0., 0., 0., 0., 0., 0.])"
            ]
          },
          "metadata": {},
          "execution_count": 4
        }
      ]
    },
    {
      "cell_type": "markdown",
      "source": [
        "We now define a function that will build the Hamiltonian matrix given the parameters of the system"
      ],
      "metadata": {
        "id": "lb5OqYfNT3Ao"
      }
    },
    {
      "cell_type": "code",
      "source": [
        "def H_fun(params):\n",
        "  wc, wq, g = params\n",
        "  H = wc*a.T@a + wq* sigma.T@sigma + g*(a.T@sigma + a@sigma.T)\n",
        "  return H"
      ],
      "metadata": {
        "id": "gTBBtdXqUIXw"
      },
      "execution_count": 5,
      "outputs": []
    },
    {
      "cell_type": "markdown",
      "source": [
        "## Eigenvalues"
      ],
      "metadata": {
        "id": "DcJHYsYXUkNn"
      }
    },
    {
      "cell_type": "markdown",
      "source": [
        "Let's see the eigenvalues of this Hamiltonian as a function of the qubit frequency. We will set:\n",
        "\n",
        "$g = 0.5$\n",
        "\n",
        "$\\omega_c = 3 $\n",
        "\n",
        "These are not particularly realistic parameters for quantum optics (usually $g\\ll \\omega_c$) but it will make the visualization easier to understand.\n",
        "\n",
        "The qubit frequency will start from values lower than $\\omega_c$ and finish at values larger, so that both qubit and cavity are resonant at some point.\n",
        "\n"
      ],
      "metadata": {
        "id": "Os5lCyW_w7_B"
      }
    },
    {
      "cell_type": "code",
      "source": [
        "g = 0.5\n",
        "wc = 3.\n",
        "\n",
        "wqmin, wqmax, nwq = 1., 5., 100\n",
        "wqgrid = np.linspace(wqmin, wqmax, nwq)\n",
        "\n",
        "\n",
        "eigenvalues_wq = [ np.sort(np.linalg.eigvals(H_fun([wc, wq, g]))) for wq in wqgrid] # We build a list of eigenvalues \n",
        "eigenvalues_wq = np.asarray(eigenvalues_wq) # We turn the list into a numpy array\n",
        "\n",
        "# For reference, we also compute eigenvalues for the uncoupled case\n",
        "eigenvalues_wq_uncoupled = np.asarray([ np.sort(np.linalg.eigvals(H_fun([wc, wq, 0]))) for wq in wqgrid]) # We build a list of eigenvalues \n"
      ],
      "metadata": {
        "id": "9HSOaHnBVN3y"
      },
      "execution_count": 6,
      "outputs": []
    },
    {
      "cell_type": "code",
      "source": [
        "for i in range(5):\n",
        "  plt.plot(wqgrid, eigenvalues_wq[:,i], color= 'blue')\n",
        "for i in range(5):\n",
        "  plt.plot(wqgrid, eigenvalues_wq_uncoupled[:,i], 'g--')\n",
        "plt.xlabel(\"$\\omega_q$\"); plt.ylabel(\"Eigenvalues\")\n",
        "plt.show()"
      ],
      "metadata": {
        "colab": {
          "base_uri": "https://localhost:8080/",
          "height": 282
        },
        "id": "HfJR_MQvVaT2",
        "outputId": "cfcc6d6e-c353-41dd-bcbd-8204c283b3ee"
      },
      "execution_count": 7,
      "outputs": [
        {
          "output_type": "display_data",
          "data": {
            "text/plain": [
              "<Figure size 432x288 with 1 Axes>"
            ],
            "image/png": "[encoded data removed]"
          },
          "metadata": {
            "needs_background": "light"
          }
        }
      ]
    },
    {
      "cell_type": "markdown",
      "source": [
        "## Dynamics"
      ],
      "metadata": {
        "id": "gmcxVvVUJeSe"
      }
    },
    {
      "cell_type": "markdown",
      "source": [
        "Once we have built our Hamiltonian, one possible way of solving the dynamics is using the formal solution for the evolution operator\n",
        "\n",
        "$$ \\hat U(t) = e^{-i \\hat H t} $$\n",
        "\n",
        "Notice that this is a **matrix exponential**, not the exponential of the elements of the matrix! We can easily compute this with scipy's ```expm``` function."
      ],
      "metadata": {
        "id": "xqHpoZULJseY"
      }
    },
    {
      "cell_type": "code",
      "source": [
        "from scipy.linalg import expm"
      ],
      "metadata": {
        "id": "qRhyPwgTJ6An"
      },
      "execution_count": 10,
      "outputs": []
    },
    {
      "cell_type": "markdown",
      "source": [
        "Built a Hamiltonian and an initial state $|e0\\rangle$"
      ],
      "metadata": {
        "id": "OyvRL0q_KUYT"
      }
    },
    {
      "cell_type": "code",
      "source": [
        "wq = wc\n",
        "H = H_fun([wc, wq, g])\n",
        "psi0 = sigma.T@vac"
      ],
      "metadata": {
        "id": "Ed4-Ec26Jm4p"
      },
      "execution_count": 11,
      "outputs": []
    },
    {
      "cell_type": "markdown",
      "source": [
        "Define a grid of times and their corresponding $dt$"
      ],
      "metadata": {
        "id": "DE0tkh9bJr1D"
      }
    },
    {
      "cell_type": "code",
      "source": [
        "tini = 0.; tfin = 20.; nt = 100; \n",
        "tgrid = np.linspace(tini, tfin, nt)\n",
        "dt = tgrid[1]-tgrid[0]"
      ],
      "metadata": {
        "id": "EEf0-XFJKjIh"
      },
      "execution_count": 13,
      "outputs": []
    },
    {
      "cell_type": "markdown",
      "source": [
        "At each time step, we will apply $U(dt)$, which we just need to compute once"
      ],
      "metadata": {
        "id": "PnlQ1QMIKqhF"
      }
    },
    {
      "cell_type": "code",
      "source": [
        "Udt = expm(-1j*H*dt)"
      ],
      "metadata": {
        "id": "_bsE9dakKx0c"
      },
      "execution_count": 14,
      "outputs": []
    },
    {
      "cell_type": "markdown",
      "source": [
        "We will now build a list of the wavefunction evaluated at the different $t$ in the array. The first element will be $|\\psi(0)\\rangle$, of course"
      ],
      "metadata": {
        "id": "Es0d-MZ6LAeS"
      }
    },
    {
      "cell_type": "code",
      "source": [
        "# Initialize a list of wavefunctions\n",
        "psi_list = [psi0]\n",
        "psit = psi0\n",
        "\n",
        "# Now we make a loop, applyting Udt in each iteration, and storing the state\n",
        "for i in range(nt-1):\n",
        "  psit = Udt@psit\n",
        "  psi_list.append(psit)"
      ],
      "metadata": {
        "id": "9ZS22IIUK10k"
      },
      "execution_count": 17,
      "outputs": []
    },
    {
      "cell_type": "markdown",
      "source": [
        "We have a list of wavefunctions evaluated at different times. Let us check the qubit and photon population"
      ],
      "metadata": {
        "id": "BUTAmjszLPwE"
      }
    },
    {
      "cell_type": "code",
      "source": [
        "def expect_np(operator, psi):\n",
        "  return np.conj(psi)@operator@psi"
      ],
      "metadata": {
        "id": "DpkqYdcaLh_F"
      },
      "execution_count": 25,
      "outputs": []
    },
    {
      "cell_type": "code",
      "source": [
        "nq_op = sigma.T@sigma\n",
        "ncav_op = a.T@a\n",
        "\n",
        "pop_qubit_time = np.real(np.asarray( [expect_np(nq_op, psi) for psi in psi_list]))\n",
        "pop_cavity_time = np.real(np.asarray( [expect_np(ncav_op, psi) for psi in psi_list]))"
      ],
      "metadata": {
        "id": "wWoQx7YqLr4W"
      },
      "execution_count": 26,
      "outputs": []
    },
    {
      "cell_type": "markdown",
      "source": [
        "Finally, we can see the Rabi oscillations:"
      ],
      "metadata": {
        "id": "5bpp8YDCMXVu"
      }
    },
    {
      "cell_type": "code",
      "source": [
        "plt.plot(tgrid, pop_qubit_time, label= \"Qubit population\")\n",
        "plt.plot(tgrid, pop_cavity_time, label = \"Cavity population\")\n",
        "plt.xlabel(\"Time\")\n",
        "plt.ylabel(\"Populations\")\n",
        "plt.legend()\n",
        "plt.show()"
      ],
      "metadata": {
        "id": "C-vo8BN_L4iI",
        "outputId": "02c6d656-3bd4-42fb-b153-11fb2c38d723",
        "colab": {
          "base_uri": "https://localhost:8080/",
          "height": 279
        }
      },
      "execution_count": 28,
      "outputs": [
        {
          "output_type": "display_data",
          "data": {
            "text/plain": [
              "<Figure size 432x288 with 1 Axes>"
            ],
            "image/png": "[encoded data removed]"
          },
          "metadata": {
            "needs_background": "light"
          }
        }
      ]
    },
    {
      "cell_type": "markdown",
      "source": [
        "# Light-matter dynamics with Qutip"
      ],
      "metadata": {
        "id": "wZ29Ply_MBP4"
      }
    },
    {
      "cell_type": "markdown",
      "source": [
        "The way we define the creation and annihilation operators is similar to what we did before: we need to build a tensor product. Here, intead of numpy's ```kron``` we will use Qutip's ```tensor``` function. But, it is the same idea!"
      ],
      "metadata": {
        "id": "mjP7KoUOeKQM"
      }
    },
    {
      "cell_type": "code",
      "source": [
        "Ncav = 500 # Truncation number: nº of photons allowed the cavity +1\n",
        "\n",
        "sigma = tensor(destroy(2),qeye(Ncav))\n",
        "a = tensor(qeye(2), destroy(Ncav))"
      ],
      "metadata": {
        "id": "7QzrATn1eN8U"
      },
      "execution_count": 30,
      "outputs": []
    },
    {
      "cell_type": "markdown",
      "source": [
        "We define a Hamiltonian of the form \n",
        "\n",
        "$H = \\Delta a^\\dagger a + g(a \\sigma^\\dagger + a^\\dagger \\sigma)$\n",
        "\n",
        "The main difference here is that now the operator are ***not*** numpy matrices, but Qutip Quantum Objects. Matrix multiplication with these Qutip operators are done with ```*```, not with ```@``` as we did before."
      ],
      "metadata": {
        "id": "zenpIujaebve"
      }
    },
    {
      "cell_type": "code",
      "source": [
        "g = 1.\n",
        "Delta = 0\n",
        "\n",
        "H = Delta * a.dag()*a + g*(a.dag()*sigma + a*sigma.dag())"
      ],
      "metadata": {
        "id": "04xO3fQYex60"
      },
      "execution_count": 31,
      "outputs": []
    },
    {
      "cell_type": "markdown",
      "source": [
        "We will do a simulation using coherent states to explore the limits of semi-classical approximations.  Define initial state \n",
        "\n",
        "$|\\psi_0\\rangle = |g\\rangle \\otimes |\\alpha\\rangle$"
      ],
      "metadata": {
        "id": "-fmE1J0lfFpf"
      }
    },
    {
      "cell_type": "code",
      "source": [
        "alpha = np.sqrt(300)\n",
        "psi0 = tensor(basis(2,0),coherent(Ncav,alpha))"
      ],
      "metadata": {
        "id": "m9Ttsv_zfNFc"
      },
      "execution_count": 33,
      "outputs": []
    },
    {
      "cell_type": "markdown",
      "source": [
        "Sanity check: Let's make sure that our cavity initial state is not populating the states close to our truncation and that we have a nice coherent state."
      ],
      "metadata": {
        "id": "JYl7bPgzjUP1"
      }
    },
    {
      "cell_type": "code",
      "source": [
        "rho_cav = psi0.ptrace(1)\n",
        "plt.plot(np.real(np.diag(rho_cav)))\n",
        "plt.xlabel(\"$n$\"), plt.ylabel(\"$p(n)$\")\n",
        "plt.show()"
      ],
      "metadata": {
        "colab": {
          "base_uri": "https://localhost:8080/",
          "height": 279
        },
        "id": "GUhMD2L7hPZd",
        "outputId": "6229bcf9-968b-4052-b618-f17bcfb08f67"
      },
      "execution_count": 34,
      "outputs": [
        {
          "output_type": "display_data",
          "data": {
            "text/plain": [
              "<Figure size 432x288 with 1 Axes>"
            ],
            "image/png": "[encoded data removed]"
          },
          "metadata": {
            "needs_background": "light"
          }
        }
      ]
    },
    {
      "cell_type": "markdown",
      "source": [
        "Define grid of times"
      ],
      "metadata": {
        "id": "kvYVe443f5aK"
      }
    },
    {
      "cell_type": "code",
      "source": [
        "tini, tfin, nt = 0., 10, 1000\n",
        "times = np.linspace(tini,tfin,nt)"
      ],
      "metadata": {
        "id": "Baj6Iyk_f65-"
      },
      "execution_count": 35,
      "outputs": []
    },
    {
      "cell_type": "markdown",
      "source": [
        "Compute time evolution: this time we use Qutip's built in function ```sesolve``` to solve the Schrodinger equation."
      ],
      "metadata": {
        "id": "yaMAbHf3gJ0W"
      }
    },
    {
      "cell_type": "code",
      "source": [
        "opts = Options()\n",
        "opts.store_states = True\n",
        "result = sesolve(H, psi0, times, [sigma.dag()*sigma, a.dag()*a],progress_bar=None,options = opts)"
      ],
      "metadata": {
        "id": "KZbhCN7lfTw6"
      },
      "execution_count": 36,
      "outputs": []
    },
    {
      "cell_type": "code",
      "source": [
        "qubit_pop, cav_pop =result.expect"
      ],
      "metadata": {
        "id": "3RREdLJcfs2v"
      },
      "execution_count": 37,
      "outputs": []
    },
    {
      "cell_type": "markdown",
      "source": [
        "Here we can observe the effect of the collapse!"
      ],
      "metadata": {
        "id": "h_FpbGEyNriN"
      }
    },
    {
      "cell_type": "code",
      "source": [
        "plt.plot(times, qubit_pop)\n",
        "plt.xlabel(\"Time\")\n",
        "plt.ylabel(\"Qubit Population\")\n",
        "plt.show()"
      ],
      "metadata": {
        "colab": {
          "base_uri": "https://localhost:8080/",
          "height": 279
        },
        "id": "Wp0tiXtugdRP",
        "outputId": "9607e555-1efa-4465-aa07-9ea16a9a6688"
      },
      "execution_count": 40,
      "outputs": [
        {
          "output_type": "display_data",
          "data": {
            "text/plain": [
              "<Figure size 432x288 with 1 Axes>"
            ],
            "image/png": "[encoded data removed]"
          },
          "metadata": {
            "needs_background": "light"
          }
        }
      ]
    },
    {
      "cell_type": "markdown",
      "source": [
        "We can compute a witness of the entanglement of the system by checking the purity of the state resulting of taking the partial trace of one of the subsystems."
      ],
      "metadata": {
        "id": "o7NUqykfNwJp"
      }
    },
    {
      "cell_type": "code",
      "source": [
        "states = result.states\n",
        "entanglement = [state.ptrace(0).purity() for state in states]"
      ],
      "metadata": {
        "id": "l5PnAiR3pvo5"
      },
      "execution_count": 42,
      "outputs": []
    },
    {
      "cell_type": "code",
      "source": [
        "plt.plot(times, entanglement)\n",
        "plt.xlabel(\"Time\")\n",
        "plt.ylabel(\"Purity\")\n",
        "plt.show()"
      ],
      "metadata": {
        "colab": {
          "base_uri": "https://localhost:8080/",
          "height": 279
        },
        "id": "sTo7uMF1qJFK",
        "outputId": "9059549a-762a-41e0-954f-11dc7941344a"
      },
      "execution_count": 44,
      "outputs": [
        {
          "output_type": "display_data",
          "data": {
            "text/plain": [
              "<Figure size 432x288 with 1 Axes>"
            ],
            "image/png": "[encoded data removed]"
          },
          "metadata": {
            "needs_background": "light"
          }
        }
      ]
    },
    {
      "cell_type": "markdown",
      "source": [
        "We see that the purity reduces, meaning that the qubit-cavity are becoming entangled, and the semiclassical ansatz\n",
        "$$|\\psi(t)\\rangle = (c_g|g\\rangle + c_e|e\\rangle)\\otimes |\\alpha\\rangle$$\n",
        "\n",
        " is no longer valid (since entanglement means we cannot write the composite state as a tensor product)."
      ],
      "metadata": {
        "id": "byDRv9lMMl-S"
      }
    },
    {
      "cell_type": "code",
      "source": [],
      "metadata": {
        "id": "Hg86mryFOSMJ"
      },
      "execution_count": null,
      "outputs": []
    }
  ]
}