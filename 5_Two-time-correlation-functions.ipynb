{
  "nbformat": 4,
  "nbformat_minor": 0,
  "metadata": {
    "colab": {
      "provenance": [],
      "toc_visible": true,
      "authorship_tag": "ABX9TyNWKNNsJ5UrRjoHht86oYyl",
      "include_colab_link": true
    },
    "kernelspec": {
      "name": "python3",
      "display_name": "Python 3"
    },
    "language_info": {
      "name": "python"
    },
    "gpuClass": "standard"
  },
  "cells": [
    {
      "cell_type": "markdown",
      "metadata": {
        "id": "view-in-github",
        "colab_type": "text"
      },
      "source": [
        "<a href=\"https://colab.research.google.com/github/CarlosSMWolff/Quantum-Optics-Course/blob/main/5_Two-time-correlation-functions.ipynb\" target=\"_parent\"><img src=\"https://colab.research.google.com/assets/colab-badge.svg\" alt=\"Open In Colab\"/></a>"
      ]
    },
    {
      "cell_type": "markdown",
      "source": [
        "## Two-time correlation functions for quantum light-matter systems"
      ],
      "metadata": {
        "id": "n2OVE0AzLprq"
      }
    },
    {
      "cell_type": "markdown",
      "source": [
        "In this notebook we will create our custom functions with numpy to simulate an open quantum system"
      ],
      "metadata": {
        "id": "ThgJv1R9oUg3"
      }
    },
    {
      "cell_type": "markdown",
      "source": [
        "Load necessary packages"
      ],
      "metadata": {
        "id": "J8rVwBeuJDRf"
      }
    },
    {
      "cell_type": "code",
      "source": [
        "# Load numpy for matrix operations\n",
        "import numpy as np\n",
        "# Load matplotlib to create plots\n",
        "import matplotlib.pyplot as plt\n",
        "from numpy import kron, sqrt, log10, exp, cosh, sinh\n",
        "\n",
        "import scipy\n",
        "\n",
        "\n",
        "from tqdm import tqdm"
      ],
      "metadata": {
        "id": "GGcDKmY4wzE0"
      },
      "execution_count": 2,
      "outputs": []
    },
    {
      "cell_type": "markdown",
      "source": [
        "First we build the quantum operators that we use to describe the states and dynamics of the system.\n",
        "\n",
        "In this example, we have a cavity (annihilation operator $a$) and a two-level system (lowering operator $\\sigma$).\n",
        "\n",
        "We will use the notation \"red\" for operators that act on the respective spaces of the cavity or the TLS alone, not in the global space that is a tensor product of both."
      ],
      "metadata": {
        "id": "9zIHNsG1JddW"
      }
    },
    {
      "cell_type": "markdown",
      "source": [
        "## Operators"
      ],
      "metadata": {
        "id": "SxUBSilKUoSJ"
      }
    },
    {
      "cell_type": "code",
      "source": [
        "# Define the annihilation operator for a single HO\n",
        "ncav = 5 # Truncation number: i.e. number of levels of the HO included.\n",
        "ared = np.diag(np.sqrt(np.arange(1,ncav)),k=1)\n",
        "\n",
        "# Define the annihilation operator for a TLS\n",
        "sigmared = np.array([[0,1],[0,0]])\n"
      ],
      "metadata": {
        "id": "9lj2Ie0bLzUy"
      },
      "execution_count": 3,
      "outputs": []
    },
    {
      "cell_type": "markdown",
      "source": [
        "\n",
        "Remember that we work in a Hilbert space which is a tensor product of the cavity Hilbert space and the TLS Hilbert space. Therefore, to build the operators we need to also build tensor products of the reduced operators defined above, for instance:\n",
        "\n",
        "$$a_\\text{total} = a_\\text{cavity}\\otimes I_{\\text{TLS}} $$ \n",
        "$$\\sigma_\\text{total} = I_\\text{cavity}\\otimes \\sigma_{\\text{TLS}} $$\n",
        "\n",
        "This tensor product is performed with numpy's Kronecker product ``np.kron``. The identity is created with ``np.eye``.\n",
        "\n"
      ],
      "metadata": {
        "id": "nEqiP1MAOLCO"
      }
    },
    {
      "cell_type": "code",
      "source": [
        "a = np.kron(ared,np.eye(2))\n",
        "sigma = np.kron(np.eye(ncav),sigmared)\n",
        "\n",
        "h = len(a)\n",
        "print(f\"The size of our combined Hilbert space is {h}\")"
      ],
      "metadata": {
        "colab": {
          "base_uri": "https://localhost:8080/"
        },
        "id": "3y4B2lyJJVA3",
        "outputId": "d0cbbcca-d164-48bd-96c4-19d5d440073b"
      },
      "execution_count": 4,
      "outputs": [
        {
          "output_type": "stream",
          "name": "stdout",
          "text": [
            "The size of our combined Hilbert space is 10\n"
          ]
        }
      ]
    },
    {
      "cell_type": "markdown",
      "source": [
        "# $g^{(2)}(\\tau)$ of resonance fluorescence"
      ],
      "metadata": {
        "id": "qszlab6pWPry"
      }
    },
    {
      "cell_type": "markdown",
      "source": [
        "First we will explore the delayed second-order correlation function for resonance fluorescence (i.e. a coherently driven qubit). \n",
        "Therefore, we set aside the cavity for now setting ```g=0``` (if would be more efficient to define a new, reduced system, but let's just do this for convenience)"
      ],
      "metadata": {
        "id": "UuNToQkVsXMG"
      }
    },
    {
      "cell_type": "code",
      "source": [
        "g = 0.\n",
        "\n",
        "Omega = 1. + 0.*1j\n",
        "kappa = 1.+ 0.*1j\n",
        "gamma = 1.+ 0.*1j\n",
        "\n",
        "\n",
        "Delta = 0\n"
      ],
      "metadata": {
        "id": "pI6dKuyiYT8A"
      },
      "execution_count": 5,
      "outputs": []
    },
    {
      "cell_type": "code",
      "source": [
        "def lindblad(op):\n",
        "  id = np.eye(len(op))\n",
        "  return 1/2*(2*kron(op,op)-kron(op.T@op,id)-kron(id,op.T@op))\n",
        "\n",
        "def gen_liouvillian(H,c_ops):\n",
        "  h = len(H)\n",
        "  id = np.eye(h)\n",
        "\n",
        "  LH = -1j*(kron(H,id) - kron(id,H)) \n",
        "  L = LH\n",
        "  for op in c_ops:\n",
        "    L = L + lindblad(op)\n",
        "  return L\n",
        "\n",
        "\n",
        "def steadystate_np(H,c_ops: list):\n",
        "  h = len(H)\n",
        "  id = np.eye(h)\n",
        "  LH = -1j*(kron(H,id) - kron(id,H)) \n",
        "  L = LH\n",
        "\n",
        "\n",
        "  for op in c_ops:\n",
        "    L = L + lindblad(op)\n",
        "\n",
        "  Lnew = L.copy()\n",
        "  Lnew[0,:] = (np.eye(h)).flatten()\n",
        "  ind = np.zeros(h**2); ind[0]=1\n",
        "\n",
        "  rhoss = np.linalg.solve(Lnew,ind)\n",
        "  rhossM = np.reshape(rhoss,(h,h))\n",
        "  \n",
        "  return rhossM\n",
        "\n",
        "def gen_Hamiltonian(Delta, g, Omega):\n",
        "  H = Delta*(a.T@a + sigma.T@sigma) + g*(a.T@sigma + a@sigma.T) + Omega*(sigma + sigma.T)\n",
        "  return H"
      ],
      "metadata": {
        "id": "94-oXi6hYgvs"
      },
      "execution_count": 6,
      "outputs": []
    },
    {
      "cell_type": "code",
      "source": [
        "taufin = 10; ntau = 100\n",
        "taugrid = np.linspace(0., taufin, ntau)\n"
      ],
      "metadata": {
        "id": "7Y1se5gmtZdM"
      },
      "execution_count": 7,
      "outputs": []
    },
    {
      "cell_type": "code",
      "source": [
        "H = gen_Hamiltonian(Delta, g, Omega)\n",
        "c_ops = [sqrt(kappa)*a, sqrt(gamma)*sigma]\n",
        "\n",
        "rhoSS = steadystate_np(H, c_ops)\n",
        "L = gen_liouvillian(H,c_ops)"
      ],
      "metadata": {
        "id": "xzmIpRGdtkoP"
      },
      "execution_count": 8,
      "outputs": []
    },
    {
      "cell_type": "code",
      "source": [
        "g2tau = []\n",
        "nq = np.real(np.trace(sigma.T @ sigma @ rhoSS))\n",
        "\n",
        "for tau in tqdm(taugrid):\n",
        "  rhs = (sigma@rhoSS@sigma.T).flatten()\n",
        "  expL = scipy.linalg.expm(L*tau)\n",
        "  G2 = np.real(np.trace(sigma.T@sigma @ np.reshape(expL @ rhs ,(h,h))))\n",
        "  g2tau.append(G2/nq**2)"
      ],
      "metadata": {
        "colab": {
          "base_uri": "https://localhost:8080/"
        },
        "id": "9HDPWmi1t5L0",
        "outputId": "7b5e1cf7-8cfa-4fe4-c612-ce5d8c9ec054"
      },
      "execution_count": 9,
      "outputs": [
        {
          "output_type": "stream",
          "name": "stderr",
          "text": [
            "100%|██████████| 100/100 [00:01<00:00, 69.87it/s]\n"
          ]
        }
      ]
    },
    {
      "cell_type": "markdown",
      "source": [
        "We confirm that our numerical result matches our analytical expression (see notes)"
      ],
      "metadata": {
        "id": "jwRMcfEmxBIE"
      }
    },
    {
      "cell_type": "code",
      "source": [
        "def g2_eq(gamma, Omega, tau):\n",
        "  delta = sqrt(gamma**2 - 64*Omega**2)/4\n",
        "  return 1 - exp(-3*gamma*tau/4)*(cosh(delta*tau) + 3*sinh(delta*tau)/(4*delta))\n",
        "\n",
        "plt.plot(taugrid, g2tau)\n",
        "plt.plot(taugrid, np.real(g2_eq(gamma, Omega, taugrid)), 'r--')\n",
        "plt.xlabel('$\\\\tau g$')\n",
        "plt.ylabel('$g^{(2)}(\\\\tau)$')\n",
        "plt.show()"
      ],
      "metadata": {
        "colab": {
          "base_uri": "https://localhost:8080/",
          "height": 281
        },
        "id": "rjX7JgXiuQXO",
        "outputId": "5416d351-0275-404a-81ea-0b08c590c86d"
      },
      "execution_count": 10,
      "outputs": [
        {
          "output_type": "display_data",
          "data": {
            "text/plain": [
              "<Figure size 432x288 with 1 Axes>"
            ],
            "image/png": "[encoded data removed]"
          },
          "metadata": {
            "needs_background": "light"
          }
        }
      ]
    },
    {
      "cell_type": "markdown",
      "source": [
        "# $g^{(2)}(\\tau)$ of Jaynes Cummings in photon blockade regime"
      ],
      "metadata": {
        "id": "eoK2mWiWzUcC"
      }
    },
    {
      "cell_type": "markdown",
      "source": [
        "We can now do the same in a full JC system setting $g\\neq 0$.\n",
        "Let's compute the g2 in the photon blockade regime, i.e. with $\\Delta = g$.\n",
        "We will also change the Hamiltonian into cavity driving instead of qubit driving."
      ],
      "metadata": {
        "id": "xAy6rf7ezUcD"
      }
    },
    {
      "cell_type": "code",
      "source": [
        "g = 1.\n",
        "Delta = g\n",
        "\n",
        "Omega = 0.001\n",
        "kappa = 4.1/33.9 \n",
        "gamma = 2.6/33.9"
      ],
      "metadata": {
        "id": "meWRRIHuzUcD"
      },
      "execution_count": 36,
      "outputs": []
    },
    {
      "cell_type": "code",
      "source": [
        "def gen_Hamiltonian_JC(Delta, g, Omega):\n",
        "  H = Delta*(a.T@a + sigma.T@sigma) + g*(a.T@sigma + a@sigma.T) + Omega*(a + a.T)\n",
        "  return H"
      ],
      "metadata": {
        "id": "wbXuY4-VzUcD"
      },
      "execution_count": 37,
      "outputs": []
    },
    {
      "cell_type": "code",
      "source": [
        "taufin = 100; ntau = 500\n",
        "taugrid = np.linspace(0., taufin, ntau)\n"
      ],
      "metadata": {
        "id": "jH000ts7zUcE"
      },
      "execution_count": 38,
      "outputs": []
    },
    {
      "cell_type": "code",
      "source": [
        "H = gen_Hamiltonian_JC(Delta, g, Omega)\n",
        "c_ops = [sqrt(kappa)*a, sqrt(gamma)*sigma]\n",
        "rhoSS = steadystate_np(H, c_ops)\n",
        "L = gen_liouvillian(H,c_ops)"
      ],
      "metadata": {
        "id": "7P3uLNjOzUcE"
      },
      "execution_count": 39,
      "outputs": []
    },
    {
      "cell_type": "markdown",
      "source": [
        "We will now compute the g2 for the emission coming out of the cavity, not the TLS"
      ],
      "metadata": {
        "id": "4rsmZfDSz9ty"
      }
    },
    {
      "cell_type": "code",
      "source": [
        "g2tau = []\n",
        "na = np.real(np.trace(a.T @ a @ rhoSS))\n",
        "rhs = (a@rhoSS@a.T).flatten()\n",
        "\n",
        "for tau in tqdm(taugrid):\n",
        "  expL = scipy.linalg.expm(L*tau)\n",
        "  G2 = np.real(np.trace(a.T@a @ np.reshape(expL @ rhs ,(h,h))))\n",
        "  g2tau.append(G2/na**2)"
      ],
      "metadata": {
        "outputId": "d03cbdc3-1cc0-4859-d6b6-61bb3dfc4b79",
        "colab": {
          "base_uri": "https://localhost:8080/"
        },
        "id": "GM7Tpf6izUcE"
      },
      "execution_count": 41,
      "outputs": [
        {
          "output_type": "stream",
          "name": "stderr",
          "text": [
            "100%|██████████| 500/500 [00:08<00:00, 59.66it/s]\n"
          ]
        }
      ]
    },
    {
      "cell_type": "code",
      "source": [
        "plt.plot(taugrid, g2tau)\n",
        "plt.xlabel('$\\\\tau g$')\n",
        "plt.ylabel('$g^{(2)}(\\\\tau)$')\n",
        "plt.show()"
      ],
      "metadata": {
        "outputId": "954c23f8-008a-47e5-980d-820b8525322a",
        "colab": {
          "base_uri": "https://localhost:8080/",
          "height": 281
        },
        "id": "wJxtvvkNzUcE"
      },
      "execution_count": 43,
      "outputs": [
        {
          "output_type": "display_data",
          "data": {
            "text/plain": [
              "<Figure size 432x288 with 1 Axes>"
            ],
            "image/png": "[encoded data removed]"
          },
          "metadata": {
            "needs_background": "light"
          }
        }
      ]
    },
    {
      "cell_type": "markdown",
      "source": [
        "FASTER WAY: Since my interval of taus has regular $d\\tau$, I can simply evaluate $U(d\\tau)=e^{ L d\\tau}$ and apply that repeatedly. This way, the evaluation of a matrix exponential is done only once, and not in very iteration of the loop."
      ],
      "metadata": {
        "id": "fdMu7iAWEj5n"
      }
    },
    {
      "cell_type": "code",
      "source": [
        "g2tau = []\n",
        "na = np.real(np.trace(a.T @ a @ rhoSS))\n",
        "rhs = (a@rhoSS@a.T).flatten()\n",
        "\n",
        "dtau = taugrid[1]-taugrid[0]\n",
        "Udt = scipy.linalg.expm(L*dtau)"
      ],
      "metadata": {
        "id": "8ciZamZ-FU-m"
      },
      "execution_count": 44,
      "outputs": []
    },
    {
      "cell_type": "code",
      "source": [
        "for tau in tqdm(taugrid):\n",
        "  G2 = np.real(np.trace(a.T@a @ np.reshape(rhs ,(h,h))))\n",
        "  rhs = Udt@rhs\n",
        "  g2tau.append(G2/na**2)"
      ],
      "metadata": {
        "colab": {
          "base_uri": "https://localhost:8080/"
        },
        "id": "fH1yC9oHFQ_5",
        "outputId": "3b7de9d4-f019-43b6-8ec8-a4b434ee23ae"
      },
      "execution_count": 45,
      "outputs": [
        {
          "output_type": "stream",
          "name": "stderr",
          "text": [
            "100%|██████████| 500/500 [00:00<00:00, 7685.99it/s]\n"
          ]
        }
      ]
    },
    {
      "cell_type": "code",
      "source": [
        "plt.plot(taugrid, g2tau)\n",
        "plt.xlabel('$\\\\tau g$')\n",
        "plt.ylabel('$g^{(2)}(\\\\tau)$')\n",
        "plt.show()"
      ],
      "metadata": {
        "colab": {
          "base_uri": "https://localhost:8080/",
          "height": 281
        },
        "id": "NWv6cQ9bGAG3",
        "outputId": "c2725a15-f992-49f9-90c8-76e3b244f1aa"
      },
      "execution_count": 46,
      "outputs": [
        {
          "output_type": "display_data",
          "data": {
            "text/plain": [
              "<Figure size 432x288 with 1 Axes>"
            ],
            "image/png": "[encoded data removed]"
          },
          "metadata": {
            "needs_background": "light"
          }
        }
      ]
    },
    {
      "cell_type": "markdown",
      "source": [
        "What about other system parameters?"
      ],
      "metadata": {
        "id": "W0Q0xugc0HBe"
      }
    },
    {
      "cell_type": "code",
      "source": [
        "Delta = g/2"
      ],
      "metadata": {
        "id": "Nm5ObLGH1pkJ"
      },
      "execution_count": 47,
      "outputs": []
    },
    {
      "cell_type": "code",
      "source": [
        "H = gen_Hamiltonian_JC(Delta, g, Omega)\n",
        "c_ops = [sqrt(kappa)*a, sqrt(gamma)*sigma]\n",
        "rhoSS = steadystate_np(H, c_ops)\n",
        "L = gen_liouvillian(H,c_ops)\n",
        "\n",
        "g2tau = []\n",
        "na = np.real(np.trace(a.T @ a @ rhoSS))\n",
        "rhs = (a@rhoSS@a.T).flatten()\n",
        "\n",
        "dtau = taugrid[1]-taugrid[0]\n",
        "Udt = scipy.linalg.expm(L*dtau)\n",
        "\n",
        "for tau in tqdm(taugrid):\n",
        "  G2 = np.real(np.trace(a.T@a @ np.reshape(rhs ,(h,h))))\n",
        "  rhs = Udt@rhs\n",
        "  g2tau.append(G2/na**2)"
      ],
      "metadata": {
        "id": "FIU2FRQ81s1a",
        "outputId": "b6511e36-c008-4c52-ffe6-53fcd176c0e6",
        "colab": {
          "base_uri": "https://localhost:8080/"
        }
      },
      "execution_count": 49,
      "outputs": [
        {
          "output_type": "stream",
          "name": "stderr",
          "text": [
            "100%|██████████| 500/500 [00:00<00:00, 20882.98it/s]\n"
          ]
        }
      ]
    },
    {
      "cell_type": "code",
      "source": [
        "plt.plot(taugrid, g2tau)\n",
        "plt.xlabel('$\\\\tau g$')\n",
        "plt.ylabel('$g^{(2)}(\\\\tau)$')\n",
        "plt.show()"
      ],
      "metadata": {
        "id": "L6yU2D1I1vzn",
        "outputId": "cbdf45b2-8445-4d22-df5c-269a233fb971",
        "colab": {
          "base_uri": "https://localhost:8080/",
          "height": 281
        }
      },
      "execution_count": 50,
      "outputs": [
        {
          "output_type": "display_data",
          "data": {
            "text/plain": [
              "<Figure size 432x288 with 1 Axes>"
            ],
            "image/png": "[encoded data removed]"
          },
          "metadata": {
            "needs_background": "light"
          }
        }
      ]
    }
  ]
}