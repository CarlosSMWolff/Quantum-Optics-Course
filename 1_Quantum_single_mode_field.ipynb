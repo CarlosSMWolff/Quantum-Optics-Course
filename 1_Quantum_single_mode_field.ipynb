{
  "nbformat": 4,
  "nbformat_minor": 0,
  "metadata": {
    "colab": {
      "provenance": [],
      "authorship_tag": "ABX9TyOYS94LzRyRT3BZvO+AWCPW",
      "include_colab_link": true
    },
    "kernelspec": {
      "name": "python3",
      "display_name": "Python 3"
    },
    "language_info": {
      "name": "python"
    }
  },
  "cells": [
    {
      "cell_type": "markdown",
      "metadata": {
        "id": "view-in-github",
        "colab_type": "text"
      },
      "source": [
        "<a href=\"https://colab.research.google.com/github/CarlosSMWolff/Quantum-Optics-Course/blob/main/1_Quantum_single_mode_field.ipynb\" target=\"_parent\"><img src=\"https://colab.research.google.com/assets/colab-badge.svg\" alt=\"Open In Colab\"/></a>"
      ]
    },
    {
      "cell_type": "markdown",
      "source": [
        "# Install necessary libraries"
      ],
      "metadata": {
        "id": "VRK_swM0Qa2m"
      }
    },
    {
      "cell_type": "markdown",
      "source": [
        "In Colab, we will need to install qutip into the machine."
      ],
      "metadata": {
        "id": "0iwpDhvyQfe-"
      }
    },
    {
      "cell_type": "code",
      "execution_count": null,
      "metadata": {
        "colab": {
          "base_uri": "https://localhost:8080/"
        },
        "id": "ysFU46qCQOTc",
        "outputId": "e1ad5319-33be-42a8-e5b2-09e826449db0"
      },
      "outputs": [
        {
          "output_type": "stream",
          "name": "stdout",
          "text": [
            "Looking in indexes: https://pypi.org/simple, https://us-python.pkg.dev/colab-wheels/public/simple/\n",
            "Collecting qutip\n",
            "  Downloading qutip-4.7.1-cp38-cp38-manylinux_2_17_x86_64.manylinux2014_x86_64.whl (16.7 MB)\n",
            "\u001b[2K     \u001b[90m━━━━━━━━━━━━━━━━━━━━━━━━━━━━━━━━━━━━━━━━\u001b[0m \u001b[32m16.7/16.7 MB\u001b[0m \u001b[31m63.9 MB/s\u001b[0m eta \u001b[36m0:00:00\u001b[0m\n",
            "\u001b[?25hRequirement already satisfied: scipy>=1.0 in /usr/local/lib/python3.8/dist-packages (from qutip) (1.10.1)\n",
            "Requirement already satisfied: packaging in /usr/local/lib/python3.8/dist-packages (from qutip) (23.0)\n",
            "Requirement already satisfied: numpy>=1.16.6 in /usr/local/lib/python3.8/dist-packages (from qutip) (1.22.4)\n",
            "Installing collected packages: qutip\n",
            "Successfully installed qutip-4.7.1\n"
          ]
        }
      ],
      "source": [
        "! pip install qutip"
      ]
    },
    {
      "cell_type": "markdown",
      "source": [
        "Load libraries"
      ],
      "metadata": {
        "id": "RBBlUtHyQiw1"
      }
    },
    {
      "cell_type": "code",
      "source": [
        "from qutip import *\n",
        "import numpy as np\n",
        "import matplotlib.pyplot as plt\n",
        "\n",
        "import matplotlib as mpl\n",
        "from matplotlib import cm\n"
      ],
      "metadata": {
        "id": "a8m8l81mQWfq"
      },
      "execution_count": null,
      "outputs": []
    },
    {
      "cell_type": "markdown",
      "source": [
        "# Single-mode field: definitions of operators and basis states (Fock states)"
      ],
      "metadata": {
        "id": "DG66k6rNQn8l"
      }
    },
    {
      "cell_type": "markdown",
      "source": [
        "When describing numerically the states of a harmonic oscillator, we must always make a first approximation: truncating the Hilbert space. Unfortunately, we cannot yet fit the infinite Hilbert space of the harmonic oscillator in our RAM memory, so we must choose a number of levels to be included in our description, which we define here as ```Ntrun```. \n",
        "\n"
      ],
      "metadata": {
        "id": "BPq7qeIXRCTs"
      }
    },
    {
      "cell_type": "code",
      "source": [
        "Ntrun = 20"
      ],
      "metadata": {
        "id": "2cfwaME4Q-Fu"
      },
      "execution_count": null,
      "outputs": []
    },
    {
      "cell_type": "markdown",
      "source": [
        "Now we can defined our annihilation operator in our truncated Hilbert space, using the Qutip command ```destroy```\n"
      ],
      "metadata": {
        "id": "TmovyeGCRmr7"
      }
    },
    {
      "cell_type": "code",
      "source": [
        "a = destroy(Ntrun)"
      ],
      "metadata": {
        "id": "XNVoZ2SjRua9"
      },
      "execution_count": null,
      "outputs": []
    },
    {
      "cell_type": "markdown",
      "source": [
        "The basis in which operators are built is the basis of Fock states, i.e. the eigenstates of the free harmonic oscillator. We can use the command ```basis``` to create such states. Let's see an example creating\n",
        "\n",
        "\n",
        "1.   The vacuum state, $|0\\rangle$\n",
        "2.   A state with exactly 3 photons, $|3\\rangle$\n"
      ],
      "metadata": {
        "id": "I5_lFemlRv_K"
      }
    },
    {
      "cell_type": "code",
      "source": [
        "vac = basis(Ntrun,0)\n",
        "fock3 = basis(Ntrun,3)"
      ],
      "metadata": {
        "id": "Oty3JrZFSzwN"
      },
      "execution_count": null,
      "outputs": []
    },
    {
      "cell_type": "markdown",
      "source": [
        "Let us know compute some expectation values to check that we get the correct mean photon numbers, given by the expectation value of the operator $a^\\dagger a$, which we define as ```a.dag()*a```. \n",
        "\n",
        "Notice that, in Qutip:\n",
        "\n",
        "1.  Products of operators are done with the ```*``` operator.\n",
        "2.  Conjugate transpose of an operator is obtained using the function ```.dag()```.\n",
        "\n"
      ],
      "metadata": {
        "id": "auj_Fdv8TDhP"
      }
    },
    {
      "cell_type": "code",
      "source": [
        "expect(a.dag()*a, vac)"
      ],
      "metadata": {
        "colab": {
          "base_uri": "https://localhost:8080/"
        },
        "id": "O7aykQ_mTjsh",
        "outputId": "b1f90a35-6950-4964-ecad-cca237e6b581"
      },
      "execution_count": null,
      "outputs": [
        {
          "output_type": "execute_result",
          "data": {
            "text/plain": [
              "0.0"
            ]
          },
          "metadata": {},
          "execution_count": 8
        }
      ]
    },
    {
      "cell_type": "code",
      "source": [
        "expect(a.dag()*a, fock3)"
      ],
      "metadata": {
        "colab": {
          "base_uri": "https://localhost:8080/"
        },
        "id": "uC6IqdcgVvp1",
        "outputId": "62b2ad36-5ecb-449f-b1b6-8bd0a5f0c292"
      },
      "execution_count": null,
      "outputs": [
        {
          "output_type": "execute_result",
          "data": {
            "text/plain": [
              "2.9999999999999996"
            ]
          },
          "metadata": {},
          "execution_count": 9
        }
      ]
    },
    {
      "cell_type": "markdown",
      "source": [
        "# Visualizations in phase space"
      ],
      "metadata": {
        "id": "rD_DATKJWIQR"
      }
    },
    {
      "cell_type": "markdown",
      "source": [
        "We compute the Wigner function to visualize states in phase space"
      ],
      "metadata": {
        "id": "B6GqXtuSWY60"
      }
    },
    {
      "cell_type": "code",
      "source": [
        "xvec = np.linspace(-5, 5, 500)\n",
        "W_vacuum = wigner(vac, xvec, xvec, g=2)"
      ],
      "metadata": {
        "id": "beRX1UYIjPJD"
      },
      "execution_count": null,
      "outputs": []
    },
    {
      "cell_type": "markdown",
      "source": [
        "Let us define a function to plot Wigner functions from now on"
      ],
      "metadata": {
        "id": "oDBsn5zKjQ0R"
      }
    },
    {
      "cell_type": "code",
      "source": [
        "def plot_wigner(wigner,xvec,yvec=None):\n",
        "  if yvec== None:\n",
        "    yvec = xvec\n",
        "  wmap = wigner_cmap(W)  # Generate Wigner colormap\n",
        "  nrm = mpl.colors.Normalize(-wigner.max(), wigner.max())\n",
        "\n",
        "  fig, ax = plt.subplots(figsize=(5,5))\n",
        "  ax.contourf(xvec, yvec, wigner, 100, cmap=cm.RdBu, norm=nrm)\n",
        "  ax.set_xlabel(\"x\")\n",
        "  ax.set_xlabel(\"y\")\n",
        "  plt.show()\n"
      ],
      "metadata": {
        "id": "qbi1TnuYi49E"
      },
      "execution_count": null,
      "outputs": []
    },
    {
      "cell_type": "code",
      "source": [
        "plot_wigner(W_vacuum,xvec)"
      ],
      "metadata": {
        "colab": {
          "base_uri": "https://localhost:8080/",
          "height": 334
        },
        "id": "1e7U761ChJp0",
        "outputId": "f7fed72f-e474-492f-bd12-3e7bd1bf0cac"
      },
      "execution_count": null,
      "outputs": [
        {
          "output_type": "display_data",
          "data": {
            "text/plain": [
              "<Figure size 360x360 with 1 Axes>"
            ],
            "image/png": "[encoded data removed]"
          },
          "metadata": {
            "needs_background": "light"
          }
        }
      ]
    },
    {
      "cell_type": "markdown",
      "source": [
        "# Coherent states"
      ],
      "metadata": {
        "id": "5G7HERHMhohn"
      }
    },
    {
      "cell_type": "markdown",
      "source": [
        "We can create a coherent state simply with the function ```coherent```"
      ],
      "metadata": {
        "id": "_9cpZnrajb37"
      }
    },
    {
      "cell_type": "code",
      "source": [
        "alpha = 2\n",
        "\n",
        "psi_alpha = coherent(Ntrun, alpha)"
      ],
      "metadata": {
        "id": "c1ioCIG2jf4r"
      },
      "execution_count": null,
      "outputs": []
    },
    {
      "cell_type": "markdown",
      "source": [
        "Let's visualize this state in phase space.\n",
        "\n",
        "WARNING: We need to call ```wigner()``` with parameter ```g=2``` to be consistent with our definition of quadratures, which is \n",
        "\n",
        "$$ x \\equiv \\frac{1}{2}(a + a^\\dagger) $$"
      ],
      "metadata": {
        "id": "UzqCc5JWjvPf"
      }
    },
    {
      "cell_type": "code",
      "source": [
        "W_coherent= wigner(psi_alpha, xvec, xvec, g= 2)\n",
        "plot_wigner(W_coherent,xvec)"
      ],
      "metadata": {
        "colab": {
          "base_uri": "https://localhost:8080/",
          "height": 334
        },
        "id": "v0ZhYSg9jsVW",
        "outputId": "0ac8c79d-b38b-4b74-a7ee-000246cb034b"
      },
      "execution_count": null,
      "outputs": [
        {
          "output_type": "display_data",
          "data": {
            "text/plain": [
              "<Figure size 360x360 with 1 Axes>"
            ],
            "image/png": "[encoded data removed]"
          },
          "metadata": {
            "needs_background": "light"
          }
        }
      ]
    },
    {
      "cell_type": "markdown",
      "source": [
        "We can also create these states by using the displacement operator"
      ],
      "metadata": {
        "id": "GTTXt8yajztI"
      }
    },
    {
      "cell_type": "code",
      "source": [],
      "metadata": {
        "id": "q5yQhFshmP2e"
      },
      "execution_count": null,
      "outputs": []
    }
  ]
}