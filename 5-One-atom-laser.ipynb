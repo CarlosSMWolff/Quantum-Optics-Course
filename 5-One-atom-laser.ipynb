{
  "nbformat": 4,
  "nbformat_minor": 0,
  "metadata": {
    "colab": {
      "provenance": [],
      "authorship_tag": "ABX9TyPqq8di1bPu+AGB8pApnb2i",
      "include_colab_link": true
    },
    "kernelspec": {
      "name": "python3",
      "display_name": "Python 3"
    },
    "language_info": {
      "name": "python"
    }
  },
  "cells": [
    {
      "cell_type": "markdown",
      "metadata": {
        "id": "view-in-github",
        "colab_type": "text"
      },
      "source": [
        "<a href=\"https://colab.research.google.com/github/CarlosSMWolff/Quantum-Optics-Course/blob/main/5-One-atom-laser.ipynb\" target=\"_parent\"><img src=\"https://colab.research.google.com/assets/colab-badge.svg\" alt=\"Open In Colab\"/></a>"
      ]
    },
    {
      "cell_type": "markdown",
      "source": [
        "# One-atom laser"
      ],
      "metadata": {
        "id": "O-R3JZ_-C_ok"
      }
    },
    {
      "cell_type": "markdown",
      "source": [
        "Import necessary libraries"
      ],
      "metadata": {
        "id": "w8zsE1DADByr"
      }
    },
    {
      "cell_type": "code",
      "source": [
        "!pip install qutip"
      ],
      "metadata": {
        "colab": {
          "base_uri": "https://localhost:8080/"
        },
        "id": "N2hSxOgFDscp",
        "outputId": "ca382787-e499-43b0-da5d-0d8a5445e1a2"
      },
      "execution_count": 1,
      "outputs": [
        {
          "output_type": "stream",
          "name": "stdout",
          "text": [
            "Looking in indexes: https://pypi.org/simple, https://us-python.pkg.dev/colab-wheels/public/simple/\n",
            "Requirement already satisfied: qutip in /usr/local/lib/python3.9/dist-packages (4.7.1)\n",
            "Requirement already satisfied: numpy>=1.16.6 in /usr/local/lib/python3.9/dist-packages (from qutip) (1.22.4)\n",
            "Requirement already satisfied: scipy>=1.0 in /usr/local/lib/python3.9/dist-packages (from qutip) (1.10.1)\n",
            "Requirement already satisfied: packaging in /usr/local/lib/python3.9/dist-packages (from qutip) (23.0)\n"
          ]
        }
      ]
    },
    {
      "cell_type": "code",
      "source": [
        "from qutip import *\n",
        "import numpy as np\n",
        "from numpy import sqrt\n",
        "from tqdm import tqdm\n",
        "import matplotlib.pyplot as plt\n",
        "import matplotlib as mpl\n",
        "from matplotlib import cm\n",
        "from matplotlib import colors"
      ],
      "metadata": {
        "id": "JUgmT5EgDEC_"
      },
      "execution_count": 2,
      "outputs": []
    },
    {
      "cell_type": "code",
      "source": [
        "ncav = 30\n",
        "\n",
        "a = tensor(destroy(ncav),qeye(2))\n",
        "sigma = tensor(qeye(ncav),destroy(2))"
      ],
      "metadata": {
        "id": "gqzngd_jDGv_"
      },
      "execution_count": 3,
      "outputs": []
    },
    {
      "cell_type": "markdown",
      "source": [
        "Lasing phase transition"
      ],
      "metadata": {
        "id": "fXhNyQfTDO6Y"
      }
    },
    {
      "cell_type": "code",
      "source": [
        "r = 0.1\n",
        "g = 1\n",
        "Cmin = 0.00001\n",
        "Cmax = 2\n",
        "nC = 100\n",
        "Cgrid = np.linspace(Cmin,Cmax,nC)"
      ],
      "metadata": {
        "id": "qW41O9MPDRS9"
      },
      "execution_count": 4,
      "outputs": []
    },
    {
      "cell_type": "code",
      "source": [
        "def rhoSS_coop(C):\n",
        "  P=np.sqrt(4/(C*r))\n",
        "  kappa = r*P\n",
        "  H = g*(a*sigma.dag() + a.dag()*sigma)\n",
        "  rhoss = steadystate(H, [sqrt(kappa)*a, sqrt(P)*sigma.dag()])\n",
        "  return rhoss\n"
      ],
      "metadata": {
        "id": "vNgJANgJDYju"
      },
      "execution_count": 5,
      "outputs": []
    },
    {
      "cell_type": "code",
      "source": [
        "rho_SS_C = [rhoSS_coop(C) for C in tqdm(Cgrid)]"
      ],
      "metadata": {
        "colab": {
          "base_uri": "https://localhost:8080/"
        },
        "id": "tU31InynD3qb",
        "outputId": "d1edba96-e2ce-48d7-f057-c0179b94d48e"
      },
      "execution_count": 6,
      "outputs": [
        {
          "output_type": "stream",
          "name": "stderr",
          "text": [
            "100%|██████████| 100/100 [00:00<00:00, 141.84it/s]\n"
          ]
        }
      ]
    },
    {
      "cell_type": "code",
      "source": [
        "cavity_pop_C = np.asarray([expect(a.dag()*a, rho) for rho in rho_SS_C])"
      ],
      "metadata": {
        "id": "9G8KP6tyEJ-l"
      },
      "execution_count": 7,
      "outputs": []
    },
    {
      "cell_type": "code",
      "source": [
        "cavity_pop_Anal = 1/(2*r)*(1-1/Cgrid)*np.heaviside(Cgrid-1,0.5)"
      ],
      "metadata": {
        "id": "SEx1-7HpEiVn"
      },
      "execution_count": 8,
      "outputs": []
    },
    {
      "cell_type": "code",
      "source": [
        "plt.plot(Cgrid,cavity_pop_C, 'b', label= 'Numerical')\n",
        "plt.plot(Cgrid,cavity_pop_Anal, 'r--', label= 'Analytical')\n",
        "plt.legend()\n",
        "plt.ylabel('Cavity population')\n",
        "plt.xlabel('Cooperativity')\n",
        "plt.show()"
      ],
      "metadata": {
        "colab": {
          "base_uri": "https://localhost:8080/",
          "height": 279
        },
        "id": "-K3apE8pERAa",
        "outputId": "8f1ec9be-bafc-45a2-83de-f27caa4476cc"
      },
      "execution_count": 9,
      "outputs": [
        {
          "output_type": "display_data",
          "data": {
            "text/plain": [
              "<Figure size 432x288 with 1 Axes>"
            ],
            "image/png": "[encoded data removed]"
          },
          "metadata": {
            "needs_background": "light"
          }
        }
      ]
    },
    {
      "cell_type": "markdown",
      "source": [
        "With Qutip, we can make this expensive calculations quite fast, and also quickly explore other things, such as the field statistics across the phase transition, or the Wigner function."
      ],
      "metadata": {
        "id": "HjXNAfXuEW7w"
      }
    },
    {
      "cell_type": "code",
      "source": [
        "g2_C = np.asarray([expect(a.dag()*a.dag()*a*a, rho)/expect(a.dag()*a, rho)**2 for rho in rho_SS_C])"
      ],
      "metadata": {
        "id": "jBSRwC1oGi6L"
      },
      "execution_count": 10,
      "outputs": []
    },
    {
      "cell_type": "markdown",
      "source": [
        "We see the transition from thermal stastics to coherent: transition to lasing!!!"
      ],
      "metadata": {
        "id": "M21K32QYGwSZ"
      }
    },
    {
      "cell_type": "code",
      "source": [
        "plt.plot(Cgrid,g2_C, 'b', label= 'Numerical')\n",
        "plt.ylabel('g2')\n",
        "plt.xlabel('Cooperativity')\n",
        "plt.show()"
      ],
      "metadata": {
        "colab": {
          "base_uri": "https://localhost:8080/",
          "height": 279
        },
        "id": "1cdIH0V0Gra-",
        "outputId": "75a797a7-a9dc-47bd-b890-99eff5549373"
      },
      "execution_count": 11,
      "outputs": [
        {
          "output_type": "display_data",
          "data": {
            "text/plain": [
              "<Figure size 432x288 with 1 Axes>"
            ],
            "image/png": "[encoded data removed]"
          },
          "metadata": {
            "needs_background": "light"
          }
        }
      ]
    },
    {
      "cell_type": "code",
      "source": [
        "rho_cav = rho_SS_C[-1].ptrace(0)"
      ],
      "metadata": {
        "id": "upBdsKWIGuaO"
      },
      "execution_count": 12,
      "outputs": []
    },
    {
      "cell_type": "code",
      "source": [
        "xmin = -2*np.sqrt(cavity_pop_C[-1])\n",
        "xmax = -xmin\n",
        "nx = 100\n",
        "xgrid = np.linspace(xmin,xmax,nx)"
      ],
      "metadata": {
        "id": "G6MbYUqpG70Y"
      },
      "execution_count": 13,
      "outputs": []
    },
    {
      "cell_type": "code",
      "source": [
        "Wigner = wigner(rho_cav, xgrid, xgrid, g=2)"
      ],
      "metadata": {
        "id": "_L-Go_w1HG1P"
      },
      "execution_count": 14,
      "outputs": []
    },
    {
      "cell_type": "code",
      "source": [
        "divnorm=colors.TwoSlopeNorm(vmin=-Wigner.max(), vcenter=0, vmax=Wigner.max())\n",
        "1\n",
        "#Plot the Wigner function\n",
        "fig, ax = plt.subplots(figsize=(5,5))\n",
        "ax.contourf(xgrid, xgrid, Wigner, 100, cmap=\"seismic\", norm=divnorm)\n",
        "ax.set_xlabel(\"x\")\n",
        "ax.set_ylabel(\"y\")\n",
        "plt.show()"
      ],
      "metadata": {
        "id": "_yGRFq5NHcfq",
        "colab": {
          "base_uri": "https://localhost:8080/",
          "height": 334
        },
        "outputId": "2faae6c7-f142-4d42-f0be-bb0cd07383df"
      },
      "execution_count": 15,
      "outputs": [
        {
          "output_type": "display_data",
          "data": {
            "text/plain": [
              "<Figure size 360x360 with 1 Axes>"
            ],
            "image/png": "[encoded data removed]"
          },
          "metadata": {
            "needs_background": "light"
          }
        }
      ]
    },
    {
      "cell_type": "markdown",
      "source": [
        "Dissipative phase transitions and Liouvillian eigenvalues"
      ],
      "metadata": {
        "id": "bVAFACtJK-6t"
      }
    },
    {
      "cell_type": "code",
      "source": [
        "C = 2\n",
        "P=np.sqrt(4/(C*r))\n",
        "kappa = r*P\n",
        "H = g*(a*sigma.dag() + a.dag()*sigma)\n",
        "L = liouvillian(H, [sqrt(kappa)*a, sqrt(P)*sigma.dag()])"
      ],
      "metadata": {
        "id": "nuUGQn_vLCiO"
      },
      "execution_count": 16,
      "outputs": []
    },
    {
      "cell_type": "code",
      "source": [
        "#alphas = L.eigenenergies(sort='low',eigvals=10)"
      ],
      "metadata": {
        "id": "tcs6zOcDLHCf"
      },
      "execution_count": null,
      "outputs": []
    },
    {
      "cell_type": "code",
      "source": [
        "Lnp = L.full()"
      ],
      "metadata": {
        "id": "emHB9lGjLIYm"
      },
      "execution_count": 17,
      "outputs": []
    },
    {
      "cell_type": "code",
      "source": [
        "alphas = np.linalg.eigvals(Lnp)"
      ],
      "metadata": {
        "id": "OC5NaCT5NJ6q"
      },
      "execution_count": null,
      "outputs": []
    },
    {
      "cell_type": "code",
      "source": [],
      "metadata": {
        "id": "V-cqpEWUNiRd"
      },
      "execution_count": null,
      "outputs": []
    }
  ]
}